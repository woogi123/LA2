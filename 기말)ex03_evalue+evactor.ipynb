{
  "nbformat": 4,
  "nbformat_minor": 0,
  "metadata": {
    "colab": {
      "provenance": [],
      "authorship_tag": "ABX9TyPNUMQgVaBM5M/7P2IjbnFw",
      "include_colab_link": true
    },
    "kernelspec": {
      "name": "python3",
      "display_name": "Python 3"
    },
    "language_info": {
      "name": "python"
    }
  },
  "cells": [
    {
      "cell_type": "markdown",
      "metadata": {
        "id": "view-in-github",
        "colab_type": "text"
      },
      "source": [
        "<a href=\"https://colab.research.google.com/github/woogi123/LA2/blob/main/%EA%B8%B0%EB%A7%90)ex03_evalue%2Bevactor.ipynb\" target=\"_parent\"><img src=\"https://colab.research.google.com/assets/colab-badge.svg\" alt=\"Open In Colab\"/></a>"
      ]
    },
    {
      "cell_type": "code",
      "execution_count": null,
      "metadata": {
        "id": "YPZtcPFOr5Bu"
      },
      "outputs": [],
      "source": [
        "### 0. import libraries"
      ]
    },
    {
      "cell_type": "code",
      "source": [
        "import numpy as np\n",
        "import numpy.linalg as npl  # Linear Algebra\n",
        "import matplotlib.pyplot as plt"
      ],
      "metadata": {
        "id": "_zvNqgTtsWWL"
      },
      "execution_count": null,
      "outputs": []
    },
    {
      "cell_type": "code",
      "source": [
        "### eigen values & eigen vectors of A"
      ],
      "metadata": {
        "id": "dr-BBQBsskqL"
      },
      "execution_count": null,
      "outputs": []
    },
    {
      "cell_type": "code",
      "source": [
        "A = np.array([[4,2], [1,3]])  #np.vstack([[4,2],[1,3])\n",
        "print(\"A:\")\n",
        "print (A, \"\\n\")\n",
        "\n",
        "e_values, e_vectors = npl.eig(A)\n",
        "print(\"A의 고윳값 = \", e_values)\n",
        "print(\"A의 고유벡터 = \", e_vectors) #길이가 1인 단위벡터로 나오기 때문에 자연수가 아님\n",
        "\n",
        "#eigen vector u1, u2\n",
        "u1 = np.vstack(e_vectors[:,0]) #모든 행에 대해서 0번째 열만 가지고 와라.\n",
        "u2 = np.vstack(e_vectors[:,1]) #모든 행에 대해서 1번째 열만 가지고 와라.\n",
        "print(\"ul: \", u1)\n",
        "print(\"u2: \", u2)\n",
        "\n",
        "#eigen value lambda 1, lambda 2\n",
        "l1, l2 = e_values[0], e_values[1]\n",
        "print(\"eigen values: \", l1, l2, \"\\n\")\n",
        "\n",
        "#check\n",
        "print(\"Au1: \", np.dot(A, u1))\n",
        "print(\"l1*u1: \", l1*u1)\n",
        "print(\"Au2: \", np.dot(A, u2))\n",
        "print(\"l2*u2: \", l2*u2)"
      ],
      "metadata": {
        "colab": {
          "base_uri": "https://localhost:8080/"
        },
        "id": "xQLBenyMsy0-",
        "outputId": "154e1015-ac40-4495-9039-1f3b2ac6eedf"
      },
      "execution_count": null,
      "outputs": [
        {
          "output_type": "stream",
          "name": "stdout",
          "text": [
            "A:\n",
            "[[4 2]\n",
            " [1 3]] \n",
            "\n",
            "A의 고윳값 =  [5. 2.]\n",
            "A의 고유벡터 =  [[ 0.89442719 -0.70710678]\n",
            " [ 0.4472136   0.70710678]]\n",
            "ul:  [[0.89442719]\n",
            " [0.4472136 ]]\n",
            "u2:  [[-0.70710678]\n",
            " [ 0.70710678]]\n",
            "eigen values:  5.0 2.0 \n",
            "\n",
            "Au1:  [[4.47213595]\n",
            " [2.23606798]]\n",
            "l1*u1:  [[4.47213595]\n",
            " [2.23606798]]\n",
            "Au2:  [[-1.41421356]\n",
            " [ 1.41421356]]\n",
            "l2*u2:  [[-1.41421356]\n",
            " [ 1.41421356]]\n"
          ]
        }
      ]
    },
    {
      "cell_type": "code",
      "source": [
        "B = np.array([[5,2,0],[2,5,0],[-3,4,6]])\n",
        "print(B)\n",
        "w2, V2 = npl.eig(B)   # (np.linalg.eig(B)도 가능) B의 고윳값과 고유벡터 계산\n",
        "print(\"\\nB의 고윳값 = \", w2)\n",
        "print(\"B의 고유벡터 = \", V2)    #6에 대한 벡터 : 0,0,1 / 7에 대한 벡터 : 0.5,0.5,0.5 ..."
      ],
      "metadata": {
        "colab": {
          "base_uri": "https://localhost:8080/"
        },
        "id": "nWG_QHrLtAl8",
        "outputId": "aa4e21ee-05aa-4f8a-e1fe-206614554251"
      },
      "execution_count": null,
      "outputs": [
        {
          "output_type": "stream",
          "name": "stdout",
          "text": [
            "[[ 5  2  0]\n",
            " [ 2  5  0]\n",
            " [-3  4  6]]\n",
            "\n",
            "B의 고윳값 =  [6. 7. 3.]\n",
            "B의 고유벡터 =  [[ 0.          0.57735027  0.36650833]\n",
            " [ 0.          0.57735027 -0.36650833]\n",
            " [ 1.          0.57735027  0.85518611]]\n"
          ]
        }
      ]
    },
    {
      "cell_type": "code",
      "source": [],
      "metadata": {
        "id": "IJrslkBmwtft"
      },
      "execution_count": null,
      "outputs": []
    }
  ]
}