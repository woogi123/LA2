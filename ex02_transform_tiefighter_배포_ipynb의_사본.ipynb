{
  "nbformat": 4,
  "nbformat_minor": 0,
  "metadata": {
    "colab": {
      "provenance": [],
      "include_colab_link": true
    },
    "kernelspec": {
      "name": "python3",
      "display_name": "Python 3"
    },
    "language_info": {
      "name": "python"
    }
  },
  "cells": [
    {
      "cell_type": "markdown",
      "metadata": {
        "id": "view-in-github",
        "colab_type": "text"
      },
      "source": [
        "<a href=\"https://colab.research.google.com/github/woogi123/LA2/blob/main/ex02_transform_tiefighter_%EB%B0%B0%ED%8F%AC_ipynb%EC%9D%98_%EC%82%AC%EB%B3%B8.ipynb\" target=\"_parent\"><img src=\"https://colab.research.google.com/assets/colab-badge.svg\" alt=\"Open In Colab\"/></a>"
      ]
    },
    {
      "cell_type": "markdown",
      "source": [
        "### 라이브러리 선언"
      ],
      "metadata": {
        "id": "VcKvO8KcJ9AJ"
      }
    },
    {
      "cell_type": "code",
      "source": [
        "import numpy as np\n",
        "import matplotlib.pyplot as plt\n",
        "from matplotlib.patches import Polygon\n",
        "\n",
        "INF = 1000  # 그림판 크기\n",
        "LEN = 100   # 처음 사각형의 크기"
      ],
      "metadata": {
        "id": "uwkBDldBERem"
      },
      "execution_count": 11,
      "outputs": []
    },
    {
      "cell_type": "markdown",
      "source": [
        "### 축 그리기 및 사각형 그리기"
      ],
      "metadata": {
        "id": "eSiS-XHya1FY"
      }
    },
    {
      "cell_type": "code",
      "source": [
        "def draw_axis(ax):\n",
        "  ax.axhline(0, color='black', alpha=0.3)  # x-axis line\n",
        "  ax.axvline(0, color='black', alpha=0.3)  # y-axis line\n",
        "  ax.set_xlim(-INF, INF)\n",
        "  ax.set_ylim(-INF, INF)\n",
        "  ax.set_aspect('equal')  # 정사각형 모양으로 backboard 그리기"
      ],
      "metadata": {
        "id": "_fc5wJBeKXDN"
      },
      "execution_count": 39,
      "outputs": []
    },
    {
      "cell_type": "code",
      "source": [
        "def draw_rectangle(ax, p1, p2, p3, p4):\n",
        "  my_polygon = Polygon([p1, p2, p3, p4])\n",
        "  ax.add_patch(my_polygon)"
      ],
      "metadata": {
        "id": "Dh1OGObly1Wa"
      },
      "execution_count": 82,
      "outputs": []
    },
    {
      "cell_type": "code",
      "source": [
        "def draw_circle(ax, x, y, r):\n",
        "  theta = np.linspace(0, 2*np.pi, 100)\n",
        "  x_vals = x + r * np.cos(theta)\n",
        "  y_vals = y + r * np.sin(theta)\n",
        "  ax.plot(x_vals, y_vals)"
      ],
      "metadata": {
        "id": "4-St6uPSih5h"
      },
      "execution_count": 83,
      "outputs": []
    },
    {
      "cell_type": "code",
      "source": [
        "def draw_object(ax):\n",
        "  p1 = np.array([0, 0])\n",
        "  p2 = np.array([LEN, 0])\n",
        "  p3 = np.array([LEN, LEN])\n",
        "  p4 = np.array([0, LEN])\n",
        "\n",
        "  draw_rectangle(ax, p1, p2, p3, p4)\n",
        "  draw_circle(ax, 0, 0, 500)"
      ],
      "metadata": {
        "id": "9_fAE1_kPjsv"
      },
      "execution_count": 93,
      "outputs": []
    },
    {
      "cell_type": "code",
      "source": [
        "# 그림판 선언 및 크기 설정\n",
        "fig, ax = plt.subplots(figsize=(7,7))\n",
        "\n",
        "# 축 그리기\n",
        "draw_axis(ax)\n",
        "\n",
        "# 물체 그리기\n",
        "draw_object(ax)\n",
        "\n",
        "plt.show()"
      ],
      "metadata": {
        "colab": {
          "base_uri": "https://localhost:8080/",
          "height": 605
        },
        "id": "L3r3ar9FQDKI",
        "outputId": "3f5543d5-5e3e-4f4e-94da-6db17091905f"
      },
      "execution_count": 94,
      "outputs": [
        {
          "output_type": "display_data",
          "data": {
            "text/plain": [
              "<Figure size 700x700 with 1 Axes>"
            ],
            "image/png": "[encoded data removed]"
          },
          "metadata": {}
        }
      ]
    },
    {
      "cell_type": "markdown",
      "source": [
        "### 본론\n",
        "#### 1. 변환 구현\n",
        "* translate(p, dx, dy)\n",
        "* rotate(p, theta)  \n",
        "* scale(p, sx, sy)  \n",
        "* shear_x(p, sx)  \n",
        "* shear_y(p, sy)  \n",
        "* reflect_x(p)  \n",
        "* reflect_y(p)   \n",
        "* ..."
      ],
      "metadata": {
        "id": "6txnl6M2PeUz"
      }
    },
    {
      "cell_type": "code",
      "source": [
        "# 점 p를 x축 방향으로 dx만큼, y축 방향으로 dy만큼 이동시킨 점 q를 구할 것\n",
        "# q = T(dx, dy) p1\n",
        "def translate(p, dx, dy):\n",
        "  # 1. 동차좌표계 (homogeneous coordinate)으로 변환\n",
        "  hp = np.array([p[0], p[1], 1.0])\n",
        "\n",
        "  # 2. 이동 변환 행렬 생성\n",
        "  m = np.array([[1.0, 0.0, dx], [0.0, 1.0, dy], [0.0, 0.0, 1.0]])\n",
        "  \n",
        "  # 3. 행렬과 벡터의 곱\n",
        "  q = np.dot(m, hp)  # (3,3) x (3,1) -> (3,1)\n",
        "  #print(q)\n",
        "\n",
        "  # 4. 2차원 좌표계로 변환\n",
        "  q = np.array([q[0], q[1]])\n",
        "  return q"
      ],
      "metadata": {
        "id": "g1iKgeNoP-Bu"
      },
      "execution_count": 95,
      "outputs": []
    },
    {
      "cell_type": "code",
      "source": [],
      "metadata": {
        "id": "c2fmAb-UDqBr"
      },
      "execution_count": 95,
      "outputs": []
    },
    {
      "cell_type": "code",
      "source": [
        "# 회전함수 구현\n",
        "def rotate(p, theta):\n",
        "  \n",
        "  #각을 라디안으로 변환\n",
        "  radians = np.deg2rad(theta)\n",
        "\n",
        "  cos_radians = np.cos(radians)\n",
        "  sin_radians = np.sin(radians)\n",
        "\n",
        "  #회전 변환 행렬\n",
        "  matrix = np.array([[cos_radians,-sin_radians], [sin_radians, cos_radians]])\n",
        "  return np.dot(matrix, p)\n"
      ],
      "metadata": {
        "id": "CoEVFW7tSq7b"
      },
      "execution_count": 96,
      "outputs": []
    },
    {
      "cell_type": "code",
      "source": [
        "def scale(p, sx, sy):\n",
        "\n",
        "  # 동차좌표계로 전환\n",
        "  p = np.array([p[0], p[1], 1.0])\n",
        "\n",
        "  # Scaling 변환 행렬 생성\n",
        "  m = np.array([[sx, 0.0, 0.0], [0.0, sy, 0.0], [0.0, 0.0, 1.0]])\n",
        "\n",
        "  #행렬과 벡터 곱\n",
        "  q = np.dot(m,p)\n",
        "\n",
        "  #2차원 좌표계로 전환\n",
        "  q = np.array([q[0], q[1]])\n",
        "\n",
        "  return q"
      ],
      "metadata": {
        "id": "j3gbCWh7UTl1"
      },
      "execution_count": 97,
      "outputs": []
    },
    {
      "cell_type": "code",
      "source": [
        "def shear_x(p, sx):\n",
        "\n",
        "  #동차좌표계로 전환\n",
        "  p = np.array([p[0], p[1], 1.0])\n",
        "\n",
        "  # Shearing 변환 행렬 생성\n",
        "  m = np.array([[1.0, sx, 0.0], [0.0, 1.0, 0.0], [0.0, 0.0, 1.0]])\n",
        "\n",
        "  #행렬과 벡터 곱\n",
        "  q = np.dot(m, p)\n",
        "\n",
        "  #2차원 좌표계로 전환\n",
        "  q = np.array([q[0], q[1]])\n",
        "\n",
        "  return q"
      ],
      "metadata": {
        "id": "nWWVN_YXXD1f"
      },
      "execution_count": 98,
      "outputs": []
    },
    {
      "cell_type": "code",
      "source": [
        "def shear_y(p, sy):\n",
        "  #동차좌표계로 전환\n",
        "  p = np.array([p[0], p[1], 1.0])\n",
        "\n",
        "  # Shearing 변환 행렬 생성\n",
        "  m = np.array([[1.0, 0.0, 0.0], [sy, 1.0, 0.0], [0.0, 0.0, 1.0]])\n",
        "\n",
        "  #행렬과 벡터 곱\n",
        "  q = np.dot(m,p)\n",
        "\n",
        "  #2차원 좌표계로 전환\n",
        "  q = np.array([q[0], q[1]])\n",
        "\n",
        "  return q"
      ],
      "metadata": {
        "id": "I76RmoOyarwD"
      },
      "execution_count": 99,
      "outputs": []
    },
    {
      "cell_type": "code",
      "source": [
        "def reflect_x(p):\n",
        "  #동차좌표계로 전환\n",
        "  p = np.array([p[0], p[1], 1.0])\n",
        "\n",
        "  # Shearing 변환 행렬 생성\n",
        "  m = np.array([[1.0, 0.0, 0.0], [0.0, -1.0, 0.0], [0.0, 0.0, 1.0]])\n",
        "  \n",
        "  #행렬과 벡터 곱\n",
        "  q = np.dot(m,p)\n",
        "\n",
        "  #2차원 좌표계로 전환\n",
        "  q = np.array([q[0], q[1]])\n",
        "\n",
        "  return q"
      ],
      "metadata": {
        "id": "ZihHtHYLnEc6"
      },
      "execution_count": 100,
      "outputs": []
    },
    {
      "cell_type": "code",
      "source": [
        "def reflect_y(p):\n",
        "  #동차좌표계로 전환\n",
        "  p = np.array([p[0], p[1], 1.0])\n",
        "\n",
        "  # Shearing 변환 행렬 생성\n",
        "  m = np.array([[-1.0, 0.0, 0.0], [0.0, 1.0, 0.0], [0.0, 0.0, 1.0]])\n",
        "  \n",
        "  #행렬과 벡터 곱\n",
        "  q = np.dot(m,p)\n",
        "\n",
        "  #2차원 좌표계로 전환\n",
        "  q = np.array([q[0], q[1]])\n",
        "\n",
        "  return q"
      ],
      "metadata": {
        "id": "ouRb6RlenN1q"
      },
      "execution_count": 101,
      "outputs": []
    },
    {
      "cell_type": "markdown",
      "source": [
        "#### 2. 파트 그리기\n",
        "* draw_cockpit(p1, p2, p3, p4)    # 중앙 조종석\n",
        "* draw_left_arm(p1, p2, p3, p4)   # 왼쪽 날개축\n",
        "* draw_left_wing(p1, p2, p3, p4)  # 왼쪽 날개\n",
        "* draw_right_arm(p1, p2, p3, p4)  # 오른쪽 날개축\n",
        "* draw_right_wing(p1, p2, p3, p4) # 오른쪽 날개"
      ],
      "metadata": {
        "id": "E_jHSezpTC-9"
      }
    },
    {
      "cell_type": "code",
      "source": [
        "#중앙 조종석 구현\n",
        "def draw_cockpit(ax, p1, p2, p3, p4):\n",
        "  # 1. 사각형을 원점으로 이동 변환: T(-LEN/2, -LEN/2)\n",
        "  # q = T(-LEN/2, -LEN/2)p\n",
        "  q1 = translate(p1, -LEN/2, -LEN/2)\n",
        "  q2 = translate(p2, -LEN/2, -LEN/2)\n",
        "  q3 = translate(p3, -LEN/2, -LEN/2)\n",
        "  q4 = translate(p4, -LEN/2, -LEN/2)\n",
        "\n",
        "\n",
        "  # 크기 조절\n",
        "  sx = 5\n",
        "  sy = 5\n",
        "  q1 = scale(q1,sx,sy)\n",
        "  q2 = scale(q2,sx,sy)\n",
        "  q3 = scale(q3,sx,sy)\n",
        "  q4 = scale(q4,sx,sy)\n",
        "\n",
        "  #사각형을 rotate 함수를 사용하여 회전시킴\n",
        "  angle = 45\n",
        "\n",
        "  q1 = rotate(q1, angle)\n",
        "  q2 = rotate(q2, angle)\n",
        "  q3 = rotate(q3, angle)\n",
        "  q4 = rotate(q4, angle)\n",
        "  \n",
        "\n",
        "  draw_rectangle(ax, q1, q2, q3, q4)"
      ],
      "metadata": {
        "id": "J8tTrsU-NG9C"
      },
      "execution_count": 102,
      "outputs": []
    },
    {
      "cell_type": "code",
      "source": [
        "# 왼쪽 날개축을 구현\n",
        "def draw_left_arm(ax, p1, p2, p3, p4):\n",
        "\n",
        "  # 사각형을 우측 하단으로 보내기\n",
        "  q1 = translate(p1, LEN*2, -LEN/2)\n",
        "  q2 = translate(p2, LEN*2.5, -LEN/2)\n",
        "  q3 = translate(p3, LEN*2.5, -LEN)\n",
        "  q4 = translate(p4, LEN*2, -LEN)\n",
        "\n",
        "  # x좌표를 Shear_x 함수를 사용하여 기울임\n",
        "  q1 = shear_x(q1, 5)\n",
        "  q2 = shear_x(q2, 5)\n",
        "  q3 = shear_x(q3, 5)\n",
        "  q4 = shear_x(q4, 5)\n",
        "\n",
        "\n",
        "  #크기 조절\n",
        "  sx = 3\n",
        "  sy = 2\n",
        "  q1 = scale(q1,sx,sy)\n",
        "  q2 = scale(q2,sx,sy)\n",
        "  q3 = scale(q3,sx,sy)\n",
        "  q4 = scale(q4,sx,sy)\n",
        "\n",
        "\n",
        "  draw_rectangle(ax, q1, q2, q3, q4)\n",
        "\n",
        "  # reflect_y을 이용해 y축 반사\n",
        "  q1 = reflect_y(q1)\n",
        "  q2 = reflect_y(q2)\n",
        "  q3 = reflect_y(q3)\n",
        "  q4 = reflect_y(q4)\n",
        "\n",
        "  #y축 반사된 사각형 구현\n",
        "  draw_rectangle(ax, q1, q2, q3, q4)\n",
        "\n",
        "  return q1, q2, q3, q4"
      ],
      "metadata": {
        "id": "7xydeIPUBOUx"
      },
      "execution_count": 103,
      "outputs": []
    },
    {
      "cell_type": "code",
      "source": [
        "#오른쪽 날개축을 구현\n",
        "def draw_right_arm(ax, p1, p2, p3, p4):\n",
        "  # draw_left_wing의 p1, p2, p3, p4 들여오기\n",
        "  p1, p2, p3, p4 = draw_left_arm(ax, p1,p2,p3, p4)\n",
        "\n",
        "  # reflect_x을 이용해 x축반사\n",
        "  q1 = reflect_x(p1)\n",
        "  q2 = reflect_x(p2)\n",
        "  q3 = reflect_x(p3)\n",
        "  q4 = reflect_x(p4)\n",
        "\n",
        "  #y축 반사된 사각형 구현\n",
        "  draw_rectangle(ax, q1, q2, q3, q4)\n",
        "\n",
        "  # reflect_y을 이용해 y축반사\n",
        "  q1 = reflect_y(q1)\n",
        "  q2 = reflect_y(q2)\n",
        "  q3 = reflect_y(q3)\n",
        "  q4 = reflect_y(q4)\n",
        "\n",
        "  #y축 반사된 사각형 구현\n",
        "  draw_rectangle(ax, q1, q2, q3, q4)\n",
        "\n",
        "\n",
        "\n",
        "\n"
      ],
      "metadata": {
        "id": "MHp-tMiSrpqz"
      },
      "execution_count": 104,
      "outputs": []
    },
    {
      "cell_type": "code",
      "source": [
        "def draw_left_wing(ax, p1, p2, p3, p4):\n",
        "  # 1. 사각형을 원점으로 이동 변환: T(-LEN/2, -LEN/2)\n",
        "  # q = T(-LEN/2, -LEN/2)p\n",
        "  q1 = translate(p1, -LEN/2, -LEN/2)\n",
        "  q2 = translate(p2, -LEN/2, -LEN/2)\n",
        "  q3 = translate(p3, -LEN/2, -LEN/2)\n",
        "  q4 = translate(p4, -LEN/2, -LEN/2)\n",
        "\n",
        "  # 좌표를 수정하여 왼쪽 날개 구현\n",
        "  q1 = translate(q1, -LEN*8, -LEN*5)\n",
        "  q2 = translate(q2, -LEN*10.5, -LEN*7)\n",
        "  q3 = translate(q3, -LEN*10.5, LEN*7)\n",
        "  q4 = translate(q4, -LEN*8, LEN*5)\n",
        "\n",
        "\n",
        "\n",
        "  draw_rectangle(ax, q1, q2, q3, q4)\n",
        "\n",
        "  return q1, q2, q3, q4"
      ],
      "metadata": {
        "id": "kX0Rs7ESfPrj"
      },
      "execution_count": 105,
      "outputs": []
    },
    {
      "cell_type": "code",
      "source": [
        "def draw_right_wing(ax, p1, p2, p3, p4):\n",
        "  #left_wing의 q1, q2, q3, q4를 가져옴\n",
        "  q1, q2, q3, q4 = draw_left_wing(ax, p1, p2, p3, p4)\n",
        "\n",
        "  # left_wing을 reflect_y 해서 y축반사\n",
        "  q1 = reflect_y(q1) \n",
        "  q2 = reflect_y(q2) \n",
        "  q3 = reflect_y(q3) \n",
        "  q4 = reflect_y(q4) \n",
        "\n",
        "  draw_rectangle(ax, q1, q2, q3, q4)\n"
      ],
      "metadata": {
        "id": "cST4SDaPfPbb"
      },
      "execution_count": 106,
      "outputs": []
    },
    {
      "cell_type": "code",
      "source": [
        "def draw_left_eye(ax, x, y, r):\n",
        "  #눈 생성\n",
        "  draw_circle(ax, x, y, r)\n",
        "  draw_circle(ax, x, y, 10)"
      ],
      "metadata": {
        "id": "wmXmD2JI3Ev8"
      },
      "execution_count": 205,
      "outputs": []
    },
    {
      "cell_type": "code",
      "source": [
        "def draw_right_eye(ax, x, y, r):\n",
        "  #x좌표 반대로\n",
        "  x = -x\n",
        "  draw_circle(ax, x, y, r)\n",
        "  draw_circle(ax, x, y, 10)"
      ],
      "metadata": {
        "id": "IrrXUKv-4OBW"
      },
      "execution_count": 206,
      "outputs": []
    },
    {
      "cell_type": "code",
      "source": [
        "def draw_eyebrow(ax, p1, p2, p3, p4):\n",
        "  #원점으로 이동\n",
        "  q1 = translate(p1, -LEN/2, -LEN/2)\n",
        "  q2 = translate(p2, -LEN/2, -LEN/2)\n",
        "  q3 = translate(p3, -LEN/2, -LEN/2)\n",
        "  q4 = translate(p4, -LEN/2, -LEN/2)\n",
        "\n",
        "  #눈썹부위 찾아가기\n",
        "  q1 = translate(q1, -LEN*4, LEN*5)\n",
        "  q2 = translate(q2, -LEN*3, LEN*5)\n",
        "  q3 = translate(q3, -LEN*3, LEN*5)\n",
        "  q4 = translate(q4, -LEN*4, LEN*5)\n",
        "\n",
        "  draw_rectangle(ax, q1, q2, q3, q4)\n",
        "  \n",
        "  # reflect_y 해서 y축반사\n",
        "  q1 = reflect_y(q1) \n",
        "  q2 = reflect_y(q2) \n",
        "  q3 = reflect_y(q3) \n",
        "  q4 = reflect_y(q4)\n",
        "\n",
        "  draw_rectangle(ax, q1, q2, q3, q4)"
      ],
      "metadata": {
        "id": "nf3Bars98DbE"
      },
      "execution_count": 207,
      "outputs": []
    },
    {
      "cell_type": "code",
      "execution_count": 208,
      "metadata": {
        "id": "hMI0xB0pDlnU"
      },
      "outputs": [],
      "source": [
        "# 2. tiefigher 그리기\n",
        "def draw_object(ax):\n",
        "  p1 = np.array([0, 0])\n",
        "  p2 = np.array([LEN, 0])\n",
        "  p3 = np.array([LEN, LEN])\n",
        "  p4 = np.array([0, LEN])\n",
        "\n",
        "\n",
        "  \n",
        "  # 1. 중앙 조종석 그리기\n",
        "  draw_cockpit(ax, p1, p2, p3, p4)\n",
        "  draw_right_arm(ax, p1, p2, p3, p4)\n",
        "  draw_left_arm(ax, p1, p2, p3, p4)\n",
        "  draw_left_wing(ax, p1, p2, p3, p4)\n",
        "  draw_right_wing(ax, p1, p2, p3, p4)\n",
        "\n",
        "  #추가\n",
        "  draw_left_eye(ax, -300, 300, 50)\n",
        "  draw_right_eye(ax, -300, 300, 50)\n",
        "  draw_tie(ax, p1, p2, p3, p4)\n",
        "  draw_eyebrow(ax, p1, p2, p3, p4)"
      ]
    },
    {
      "cell_type": "code",
      "source": [
        "# 그림판 선언 및 크기 설정\n",
        "fig, ax = plt.subplots(figsize=(7,7))\n",
        "\n",
        "# 축 그리기\n",
        "draw_axis(ax)\n",
        "\n",
        "# 물체 그리기\n",
        "draw_object(ax)\n",
        "\n",
        "plt.show()"
      ],
      "metadata": {
        "id": "1Bdz-KxWLLHb",
        "colab": {
          "base_uri": "https://localhost:8080/",
          "height": 605
        },
        "outputId": "bd2d37f9-5d66-446c-c6f6-95360939057a"
      },
      "execution_count": 209,
      "outputs": [
        {
          "output_type": "display_data",
          "data": {
            "text/plain": [
              "<Figure size 700x700 with 1 Axes>"
            ],
            "image/png": "[encoded data removed]"
          },
          "metadata": {}
        }
      ]
    },
    {
      "cell_type": "markdown",
      "source": [
        "### 3. main"
      ],
      "metadata": {
        "id": "24hO1zQaHiFJ"
      }
    },
    {
      "cell_type": "code",
      "source": [
        "def draw_tie(ax, p1, p2, p3, p4):\n",
        "\n",
        "  q1 = translate(p1, -LEN*2/3, -LEN*5)\n",
        "  q2 = translate(p2, 3*LEN, -LEN*3)\n",
        "  q3 = translate(p3, 3*LEN, -LEN*7)\n",
        "  q4 = translate(p4, -LEN*2/3, -LEN*5)\n",
        "\n",
        "  draw_rectangle(ax, q1, q2, q3, q4)\n",
        "\n",
        "  # left_wing을 reflect_y 해서 y축반사\n",
        "  q1 = reflect_y(q1) \n",
        "  q2 = reflect_y(q2) \n",
        "  q3 = reflect_y(q3) \n",
        "  q4 = reflect_y(q4) \n",
        "  \n",
        "  draw_rectangle(ax, q1, q2, q3, q4)"
      ],
      "metadata": {
        "id": "sDurOjTe5AYb"
      },
      "execution_count": 187,
      "outputs": []
    }
  ]
}